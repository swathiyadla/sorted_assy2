{
 "cells": [
  {
   "cell_type": "code",
   "execution_count": 1,
   "id": "889bc905",
   "metadata": {},
   "outputs": [
    {
     "data": {
      "text/plain": [
       "[(7, 1), (1, 2), (6, 3), (3, 4), (1, 5)]"
      ]
     },
     "execution_count": 1,
     "metadata": {},
     "output_type": "execute_result"
    }
   ],
   "source": [
    "def last(n):\n",
    "    return n[-1]\n",
    "def sorting(values):\n",
    "    return sorted(values,key=last)\n",
    "sorting( [(1, 2), (7, 1), (3, 4), (6, 3), (1, 5)])"
   ]
  },
  {
   "cell_type": "code",
   "execution_count": null,
   "id": "27d3756e",
   "metadata": {},
   "outputs": [],
   "source": []
  }
 ],
 "metadata": {
  "kernelspec": {
   "display_name": "Python 3 (ipykernel)",
   "language": "python",
   "name": "python3"
  },
  "language_info": {
   "codemirror_mode": {
    "name": "ipython",
    "version": 3
   },
   "file_extension": ".py",
   "mimetype": "text/x-python",
   "name": "python",
   "nbconvert_exporter": "python",
   "pygments_lexer": "ipython3",
   "version": "3.10.0"
  }
 },
 "nbformat": 4,
 "nbformat_minor": 5
}
